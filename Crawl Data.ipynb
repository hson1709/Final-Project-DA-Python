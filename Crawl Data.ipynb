{
 "cells": [
  {
   "cell_type": "code",
   "execution_count": null,
   "id": "428d8bbe",
   "metadata": {},
   "outputs": [],
   "source": [
    "from facebook_scraper import get_posts\n",
    "import pandas as pd\n",
    "import numpy as np\n",
    "\n",
    "# Đuôi đường link page để cào dữ liệu\n",
    "FANPAGE_LINK =\"Theanh28.Hanoi\"\n",
    "# Tên file dữ liệu sẽ xuất dưới dạng FOLDER_PATH + FANPAGE_LINK \n",
    "FOLDER_PATH = \"Raw Data \"\n",
    "# Đường dẫn đến file cookies đã tải về\n",
    "COOKIE_PATH = r\"D:\\Xử lý dữ liệu với Python\\www.facebook.com_cookies.txt\"\n",
    "\n",
    "# Số trang để cào dữ liệu \n",
    "PAGES_NUMBER = 15\n",
    "\n",
    "post_list = []\n",
    "for post in get_posts(FANPAGE_LINK,\n",
    "                    options={\"comments\": True, \"reactions\": True, \"allow_extra_requests\": True},\n",
    "                    extra_info=True, pages=PAGES_NUMBER, cookies=COOKIE_PATH):\n",
    "    print(post)\n",
    "    post_list.append(post)\n",
    "\n",
    "# Initialize dataframe to scrape Facebook post\n",
    "post_df_full = pd.DataFrame(columns=post_list[0].keys(), index=range(len(post_list)), data=post_list)\n",
    "\n",
    "# To df\n",
    "# File sẽ được xuất với đuôi .csv\n",
    "path=FOLDER_PATH + FANPAGE_LINK + \".csv\"\n",
    "post_df_full.to_csv(path, index=False)\n",
    "print(path)"
   ]
  }
 ],
 "metadata": {
  "kernelspec": {
   "display_name": "Python 3 (ipykernel)",
   "language": "python",
   "name": "python3"
  },
  "language_info": {
   "codemirror_mode": {
    "name": "ipython",
    "version": 3
   },
   "file_extension": ".py",
   "mimetype": "text/x-python",
   "name": "python",
   "nbconvert_exporter": "python",
   "pygments_lexer": "ipython3",
   "version": "3.11.5"
  }
 },
 "nbformat": 4,
 "nbformat_minor": 5
}
